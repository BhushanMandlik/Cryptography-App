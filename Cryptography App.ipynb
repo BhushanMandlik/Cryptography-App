{
 "cells": [
  {
   "cell_type": "code",
   "execution_count": 46,
   "metadata": {},
   "outputs": [
    {
     "name": "stdout",
     "output_type": "stream",
     "text": [
      "Requirement already satisfied: onetimepad in c:\\users\\lenovo\\appdata\\local\\programs\\python\\python37-32\\lib\\site-packages (1.4)\n"
     ]
    },
    {
     "name": "stderr",
     "output_type": "stream",
     "text": [
      "WARNING: You are using pip version 20.2.4; however, version 20.3.3 is available.\n",
      "You should consider upgrading via the 'c:\\users\\lenovo\\appdata\\local\\programs\\python\\python37-32\\python.exe -m pip install --upgrade pip' command.\n"
     ]
    }
   ],
   "source": [
    "!pip install onetimepad"
   ]
  },
  {
   "cell_type": "code",
   "execution_count": 47,
   "metadata": {},
   "outputs": [],
   "source": [
    "from tkinter import *\n",
    "import random\n",
    "import onetimepad"
   ]
  },
  {
   "cell_type": "code",
   "execution_count": 48,
   "metadata": {},
   "outputs": [
    {
     "name": "stdout",
     "output_type": "stream",
     "text": [
      "Working 0b06111a09215f\n",
      "Working bhushan\n",
      "Working 0000000000\n",
      "Working india\n"
     ]
    }
   ],
   "source": [
    "base = Tk()\n",
    "base.geometry(\"1000x550\")\n",
    "base.config(background=\"#de683d\")\n",
    "base.title(\"Cryptography App\")\n",
    "\n",
    "def encryptmsg():\n",
    "    a = txt1.get()\n",
    "    b = onetimepad.encrypt(a,'india@11')\n",
    "    print(\"Working\",b)\n",
    "    txt2.delete(0,END)\n",
    "    txt2.insert(END,b)\n",
    "    \n",
    "def decryptmsg():\n",
    "    a = txt3.get()\n",
    "    b = onetimepad.decrypt(a,'india@11')\n",
    "    print(\"Working\",b)\n",
    "    txt4.delete(0,END)\n",
    "    txt4.insert(END,b)\n",
    "    \n",
    "lb1 = Label(base,text=\"Encrypted Text\", fg=\"white\", background=\"#de683d\", font=\"30\")\n",
    "lb1.place(x=150,y=80)\n",
    "\n",
    "lb2 = Label(base,text=\"Decrypted Text\", fg=\"white\", background=\"#de683d\", font=\"30\")\n",
    "lb2.place(x=710,y=80)\n",
    "\n",
    "/#---- Encryption --------\n",
    "plain_txt = Label(base, text=\"Plain Text\", fg=\"white\", background=\"#de683d\", font=\"20\")\n",
    "plain_txt.place(x=20, y=180)\n",
    "txt1 = Entry(base, width=\"35\")\n",
    "txt1.place(x=210, y=185)\n",
    "\n",
    "en_txt = Label(base, text=\"Encrypted Text\", fg=\"white\", background=\"#de683d\", font=\"20\")\n",
    "en_txt.place(x=20, y=300)\n",
    "txt2 = Entry(base, width=\"35\")\n",
    "txt2.place(x=210, y=305)\n",
    "\n",
    "btn1 = Button(base, width=\"13\", height=\"2\", bd=\"5\", activebackground=\"green\", text=\"Encrypt\", command=encryptmsg)\n",
    "btn1.place(x=150,y=380)\n",
    "#------------------------------------\n",
    "\n",
    "/#---- Decryption --------\n",
    "plain_txt = Label(base, text=\"Encrypted Text\", fg=\"white\", background=\"#de683d\", font=\"20\")\n",
    "plain_txt.place(x=580, y=180)\n",
    "txt3 = Entry(base, width=\"35\")\n",
    "txt3.place(x=770, y=185)\n",
    "\n",
    "en_txt = Label(base, text=\"Plain Text\", fg=\"white\", background=\"#de683d\", font=\"20\")\n",
    "en_txt.place(x=580, y=300)\n",
    "txt4 = Entry(base, width=\"35\")\n",
    "txt4.place(x=770, y=305)\n",
    "\n",
    "btn2 = Button(base, width=\"13\", height=\"2\", bd=\"5\", activebackground=\"green\", text=\"Decrypt\", command=decryptmsg)\n",
    "btn2.place(x=720,y=380)\n",
    "#------------------------------------\n",
    "\n",
    "#-------------------------------------- Slidebar Starts -----------------------------------------------------\n",
    "colors = ['red','green','black','red2','gold2','indianred1','sienna1','orange2','darkorchid1','cornflower blue','saddle brown','cornsilk3','steelblue4']\n",
    "def IntroLabelColorTick():\n",
    "    fg = random.choice(colors)\n",
    "    SliderLabel.config(fg=fg)\n",
    "    SliderLabel.after(1000,IntroLabelColorTick)\n",
    "\n",
    "def IntroLabelTick():\n",
    "    global count,text\n",
    "    if(count>=len(ss)):\n",
    "        count = 0\n",
    "        text = ''\n",
    "        SliderLabel.config(text=text)\n",
    "    else:\n",
    "        text = text+ss[count]\n",
    "        SliderLabel.config(text=text)\n",
    "        count += 1\n",
    "    SliderLabel.after(300,IntroLabelTick)\n",
    "\n",
    "ss = 'Cryptography App'\n",
    "count = 0\n",
    "text = ''\n",
    "\n",
    "SliderLabel = Label(base,text=ss,font=('Times new roman',30,'italic bold'),relief=RIDGE,borderwidth=4,width=20,bg='linen')\n",
    "SliderLabel.place(x=280,y=0)\n",
    "IntroLabelTick()\n",
    "IntroLabelColorTick()\n",
    "#-------------------------------------- Slidebar Ends -----------------------------------------------------\n",
    "\n",
    "base.mainloop()"
   ]
  }
 ],
 "metadata": {
  "kernelspec": {
   "display_name": "Python 3",
   "language": "python",
   "name": "python3"
  },
  "language_info": {
   "codemirror_mode": {
    "name": "ipython",
    "version": 3
   },
   "file_extension": ".py",
   "mimetype": "text/x-python",
   "name": "python",
   "nbconvert_exporter": "python",
   "pygments_lexer": "ipython3",
   "version": "3.7.4"
  }
 },
 "nbformat": 4,
 "nbformat_minor": 4
}
